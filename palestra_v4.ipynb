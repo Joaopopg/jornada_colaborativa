{
  "nbformat": 4,
  "nbformat_minor": 0,
  "metadata": {
    "colab": {
      "name": "palestra_v4.ipynb",
      "provenance": [],
      "collapsed_sections": [],
      "authorship_tag": "ABX9TyOfqZy/HIkd9sQLEdz/ekti",
      "include_colab_link": true
    },
    "kernelspec": {
      "name": "python3",
      "display_name": "Python 3"
    }
  },
  "cells": [
    {
      "cell_type": "markdown",
      "metadata": {
        "id": "view-in-github",
        "colab_type": "text"
      },
      "source": [
        "<a href=\"https://colab.research.google.com/github/Joaopopg/jornada_colaborativa/blob/master/palestra_v4.ipynb\" target=\"_parent\"><img src=\"https://colab.research.google.com/assets/colab-badge.svg\" alt=\"Open In Colab\"/></a>"
      ]
    },
    {
      "cell_type": "markdown",
      "metadata": {
        "id": "HygSK66sNVl4",
        "colab_type": "text"
      },
      "source": [
        "# Aplicações\n",
        "# Orientação a objeto"
      ]
    },
    {
      "cell_type": "code",
      "metadata": {
        "id": "qqh-xEQP5POv",
        "colab_type": "code",
        "colab": {}
      },
      "source": [
        "class Aluno:\n",
        "\n",
        "    def __init__(self, nome, curso, divida):\n",
        "        self.__nome = nome\n",
        "        self.__curso = curso\n",
        "        self.__divida = divida   \n",
        "    \n",
        "    def pagar(self,valor):\n",
        "      self.__divida -= valor\n",
        "\n",
        "    #get_nome()\n",
        "    @property\n",
        "    def nome(self):\n",
        "      return self.__nome\n",
        "\n",
        "    @property\n",
        "    def divida(self):\n",
        "      return self.__divida\n",
        "\n",
        "    @property\n",
        "    def curso(self):\n",
        "      return self.__curso\n",
        "\n",
        "    #set_curso()\n",
        "    @curso.setter\n",
        "    def curso(self,curso):\n",
        "      self.__curso = curso"
      ],
      "execution_count": 11,
      "outputs": []
    },
    {
      "cell_type": "code",
      "metadata": {
        "id": "gqNIVusZwACi",
        "colab_type": "code",
        "colab": {}
      },
      "source": [
        "aluno1 = Aluno(\"Maria\", \"Filosofia\", 300.0)"
      ],
      "execution_count": 12,
      "outputs": []
    },
    {
      "cell_type": "code",
      "metadata": {
        "id": "73SI9krn9ll-",
        "colab_type": "code",
        "colab": {}
      },
      "source": [
        "aluno1.nome"
      ],
      "execution_count": null,
      "outputs": []
    },
    {
      "cell_type": "code",
      "metadata": {
        "id": "s9Cz7t7u8k52",
        "colab_type": "code",
        "colab": {}
      },
      "source": [
        "aluno1.curso"
      ],
      "execution_count": null,
      "outputs": []
    },
    {
      "cell_type": "code",
      "metadata": {
        "id": "BDITaOdL7WJn",
        "colab_type": "code",
        "colab": {}
      },
      "source": [
        "aluno1.curso = 'Python'"
      ],
      "execution_count": 15,
      "outputs": []
    },
    {
      "cell_type": "code",
      "metadata": {
        "id": "in4c-fMA8p_U",
        "colab_type": "code",
        "colab": {}
      },
      "source": [
        "aluno1.curso"
      ],
      "execution_count": null,
      "outputs": []
    },
    {
      "cell_type": "code",
      "metadata": {
        "id": "tO8CA_2q86XQ",
        "colab_type": "code",
        "colab": {}
      },
      "source": [
        "aluno1.divida"
      ],
      "execution_count": null,
      "outputs": []
    },
    {
      "cell_type": "code",
      "metadata": {
        "id": "VM1xDr3S7nro",
        "colab_type": "code",
        "colab": {}
      },
      "source": [
        "aluno1.pagar(150)"
      ],
      "execution_count": 18,
      "outputs": []
    },
    {
      "cell_type": "code",
      "metadata": {
        "id": "xGO1tQaC8CNg",
        "colab_type": "code",
        "colab": {}
      },
      "source": [
        "aluno1.divida"
      ],
      "execution_count": null,
      "outputs": []
    },
    {
      "cell_type": "markdown",
      "metadata": {
        "id": "jrsJE-nSL5yd",
        "colab_type": "text"
      },
      "source": [
        "# Script"
      ]
    },
    {
      "cell_type": "code",
      "metadata": {
        "id": "RZ5uj6TJaHdM",
        "colab_type": "code",
        "colab": {}
      },
      "source": [
        "from urllib.request import urlopen\n",
        "from bs4 import BeautifulSoup\n",
        "import re\n",
        "\n",
        "url = 'https://www.who.int/'\n",
        "\n",
        "response = urlopen(url)\n",
        "html = response.read().decode('utf8')\n",
        "\n",
        "soup = BeautifulSoup(html, 'html.parser')"
      ],
      "execution_count": 22,
      "outputs": []
    },
    {
      "cell_type": "code",
      "metadata": {
        "id": "ITheIDjQsC85",
        "colab_type": "code",
        "colab": {}
      },
      "source": [
        "soup"
      ],
      "execution_count": null,
      "outputs": []
    },
    {
      "cell_type": "code",
      "metadata": {
        "id": "IbUUDHiOn0Cr",
        "colab_type": "code",
        "colab": {}
      },
      "source": [
        "soup.body.findAll('img')"
      ],
      "execution_count": null,
      "outputs": []
    },
    {
      "cell_type": "code",
      "metadata": {
        "id": "OSPz5Zs8KRUM",
        "colab_type": "code",
        "colab": {}
      },
      "source": [
        "soup.body.findAll(text=re.compile('COVID'))"
      ],
      "execution_count": null,
      "outputs": []
    },
    {
      "cell_type": "markdown",
      "metadata": {
        "id": "_Pq-LxneI7AV",
        "colab_type": "text"
      },
      "source": [
        "# Dados"
      ]
    },
    {
      "cell_type": "code",
      "metadata": {
        "id": "AuBSa90eN_TJ",
        "colab_type": "code",
        "colab": {}
      },
      "source": [
        "import pandas as pd"
      ],
      "execution_count": 1,
      "outputs": []
    },
    {
      "cell_type": "code",
      "metadata": {
        "id": "CH-Pty_CQitO",
        "colab_type": "code",
        "colab": {}
      },
      "source": [
        "primeiro_dataframe = pd.DataFrame([[1, 2, 3], [4, 5, 6], [7, 8, 9]],                                  \n",
        "                   columns=['a', 'b', 'c'])"
      ],
      "execution_count": 2,
      "outputs": []
    },
    {
      "cell_type": "code",
      "metadata": {
        "id": "CS7Z1u8KQ7Xp",
        "colab_type": "code",
        "colab": {}
      },
      "source": [
        "primeiro_dataframe"
      ],
      "execution_count": null,
      "outputs": []
    },
    {
      "cell_type": "code",
      "metadata": {
        "id": "vtx-ThJYsxMe",
        "colab_type": "code",
        "colab": {}
      },
      "source": [
        "primeiro_dataframe['a'].sum()"
      ],
      "execution_count": null,
      "outputs": []
    },
    {
      "cell_type": "code",
      "metadata": {
        "id": "cCLlkHCmNbX2",
        "colab_type": "code",
        "colab": {}
      },
      "source": [
        "from sklearn.datasets import load_iris\n",
        "import matplotlib.pyplot as plt"
      ],
      "execution_count": 5,
      "outputs": []
    },
    {
      "cell_type": "code",
      "metadata": {
        "id": "BvqKO5dqYWBX",
        "colab_type": "code",
        "colab": {}
      },
      "source": [
        "iris = load_iris()\n",
        "iris_df_raw = pd.DataFrame(data=iris['data'], columns=iris['feature_names'])\n",
        "iris_df_raw.head()"
      ],
      "execution_count": null,
      "outputs": []
    },
    {
      "cell_type": "code",
      "metadata": {
        "id": "cazVgnImWSXY",
        "colab_type": "code",
        "colab": {}
      },
      "source": [
        "iris_df_raw['planta'] = iris.target_names[iris.target]"
      ],
      "execution_count": 7,
      "outputs": []
    },
    {
      "cell_type": "code",
      "metadata": {
        "id": "STdHBP7WWXuf",
        "colab_type": "code",
        "colab": {}
      },
      "source": [
        "iris_df_raw"
      ],
      "execution_count": null,
      "outputs": []
    },
    {
      "cell_type": "code",
      "metadata": {
        "id": "B7RJ4oqFOLlq",
        "colab_type": "code",
        "colab": {}
      },
      "source": [
        "iris_df_raw.groupby('planta').agg(\n",
        "    soma_sepal_width = pd.NamedAgg(column='sepal width (cm)', aggfunc=sum)\n",
        ")"
      ],
      "execution_count": null,
      "outputs": []
    },
    {
      "cell_type": "code",
      "metadata": {
        "id": "ZfS4Mv7F2ovU",
        "colab_type": "code",
        "colab": {}
      },
      "source": [
        "#graficos\n",
        "iris_df_raw['sepal width (cm)'].hist()"
      ],
      "execution_count": null,
      "outputs": []
    },
    {
      "cell_type": "code",
      "metadata": {
        "id": "Q2O3FPWRU4W0",
        "colab_type": "code",
        "colab": {}
      },
      "source": [
        "ax = iris_df_raw[iris_df_raw['planta']=='setosa'].plot.scatter(x='sepal length (cm)', y='sepal width (cm)', \n",
        "                                                    color='red', label='setosa')\n",
        "\n",
        "iris_df_raw[iris_df_raw['planta']=='versicolor'].plot.scatter(x='sepal length (cm)', y='sepal width (cm)', \n",
        "                                                color='green', label='versicolor', ax=ax)\n",
        "\n",
        "iris_df_raw[iris_df_raw['planta']=='virginica'].plot.scatter(x='sepal length (cm)', y='sepal width (cm)', \n",
        "                                                color='blue', label='virginica', ax=ax)\n",
        "ax.set_title(\"Iris\")\n",
        "plt.show()"
      ],
      "execution_count": null,
      "outputs": []
    },
    {
      "cell_type": "code",
      "metadata": {
        "id": "h5ttBDboJyoW",
        "colab_type": "code",
        "colab": {}
      },
      "source": [
        "from sklearn.cluster import KMeans"
      ],
      "execution_count": 61,
      "outputs": []
    },
    {
      "cell_type": "code",
      "metadata": {
        "id": "v_1nJ2m2doL6",
        "colab_type": "code",
        "colab": {}
      },
      "source": [
        "#lagura e comprimento da sepala\n",
        "X = iris.data[:, :2]"
      ],
      "execution_count": 62,
      "outputs": []
    },
    {
      "cell_type": "code",
      "metadata": {
        "id": "m4VNRo8rcwxc",
        "colab_type": "code",
        "colab": {}
      },
      "source": [
        "kmeans = KMeans(n_clusters = 3)\n",
        "pred_y = kmeans.fit_predict(X)\n",
        "plt.scatter(X[:,0], X[:,1])\n",
        "plt.scatter(kmeans.cluster_centers_[:, 0], kmeans.cluster_centers_[:, 1], s=300, color='red')\n",
        "plt.show()"
      ],
      "execution_count": null,
      "outputs": []
    }
  ]
}